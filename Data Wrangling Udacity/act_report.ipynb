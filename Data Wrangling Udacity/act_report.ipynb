{
 "cells": [
  {
   "cell_type": "markdown",
   "metadata": {},
   "source": [
    "# Who is the Gooedest Boy?\n",
    "\n",
    "\n",
    "## Sponsored By\n",
    "![WeRateDogs](https://cdn.shopify.com/s/files/1/1352/9125/files/wrd_logo_website-200h_540x.png?v=1599580382)\n"
   ]
  },
  {
   "cell_type": "markdown",
   "metadata": {},
   "source": [
    "Using an archive of WeRateDogs, I was able to find some info on which dog names get the best ratings. I do want to note that most dogs in this dataset are unnamed or in groups and so a larger dataset with more names will produce better results"
   ]
  },
  {
   "cell_type": "markdown",
   "metadata": {},
   "source": [
    "### The Dataset:\n",
    "\n",
    "First, let's read the dataset. We will need to the Pandas library for this"
   ]
  },
  {
   "cell_type": "code",
   "execution_count": 1,
   "metadata": {},
   "outputs": [],
   "source": [
    "import pandas as pd"
   ]
  },
  {
   "cell_type": "markdown",
   "metadata": {},
   "source": [
    "With pandas imported, we can read the master file I created. You can also find how I did this <a href=\"http://localhost:8888/lab/tree/Downloads/Data%20Wrangling%20Udacity/wrangle_act.ipynb\"> here</a>. \n",
    "<!-- this is a fake link that in a real setting would link do warngle.act ––>"
   ]
  },
  {
   "cell_type": "code",
   "execution_count": 2,
   "metadata": {},
   "outputs": [
    {
     "data": {
      "text/html": [
       "<div>\n",
       "<style scoped>\n",
       "    .dataframe tbody tr th:only-of-type {\n",
       "        vertical-align: middle;\n",
       "    }\n",
       "\n",
       "    .dataframe tbody tr th {\n",
       "        vertical-align: top;\n",
       "    }\n",
       "\n",
       "    .dataframe thead th {\n",
       "        text-align: right;\n",
       "    }\n",
       "</style>\n",
       "<table border=\"1\" class=\"dataframe\">\n",
       "  <thead>\n",
       "    <tr style=\"text-align: right;\">\n",
       "      <th></th>\n",
       "      <th>tweet_id</th>\n",
       "      <th>timestamp</th>\n",
       "      <th>source</th>\n",
       "      <th>text</th>\n",
       "      <th>expanded_urls</th>\n",
       "      <th>rating_out_of_10</th>\n",
       "      <th>name</th>\n",
       "      <th>jpg_url</th>\n",
       "      <th>num_images</th>\n",
       "      <th>first_guess</th>\n",
       "      <th>...</th>\n",
       "      <th>first_img_isdog</th>\n",
       "      <th>second_guess</th>\n",
       "      <th>second_guess_confidence</th>\n",
       "      <th>second_img_isdog</th>\n",
       "      <th>third_guess</th>\n",
       "      <th>third_guess_confidence</th>\n",
       "      <th>third_img_isdog</th>\n",
       "      <th>retweet_count</th>\n",
       "      <th>favorite_count</th>\n",
       "      <th>type</th>\n",
       "    </tr>\n",
       "  </thead>\n",
       "  <tbody>\n",
       "    <tr>\n",
       "      <th>0</th>\n",
       "      <td>892420643555336193</td>\n",
       "      <td>2017-08-01 16:23:56+00:00</td>\n",
       "      <td>&lt;a href=\"http://twitter.com/download/iphone\" r...</td>\n",
       "      <td>This is Phineas. He's a mystical boy. Only eve...</td>\n",
       "      <td>https://twitter.com/dog_rates/status/892420643...</td>\n",
       "      <td>13</td>\n",
       "      <td>Phineas</td>\n",
       "      <td>https://pbs.twimg.com/media/DGKD1-bXoAAIAUK.jpg</td>\n",
       "      <td>1</td>\n",
       "      <td>orange</td>\n",
       "      <td>...</td>\n",
       "      <td>False</td>\n",
       "      <td>bagel</td>\n",
       "      <td>0.085851</td>\n",
       "      <td>False</td>\n",
       "      <td>banana</td>\n",
       "      <td>0.076110</td>\n",
       "      <td>False</td>\n",
       "      <td>7121</td>\n",
       "      <td>34282</td>\n",
       "      <td>NaN</td>\n",
       "    </tr>\n",
       "    <tr>\n",
       "      <th>1</th>\n",
       "      <td>892177421306343426</td>\n",
       "      <td>2017-08-01 00:17:27+00:00</td>\n",
       "      <td>&lt;a href=\"http://twitter.com/download/iphone\" r...</td>\n",
       "      <td>This is Tilly. She's just checking pup on you....</td>\n",
       "      <td>https://twitter.com/dog_rates/status/892177421...</td>\n",
       "      <td>13</td>\n",
       "      <td>Tilly</td>\n",
       "      <td>https://pbs.twimg.com/media/DGGmoV4XsAAUL6n.jpg</td>\n",
       "      <td>1</td>\n",
       "      <td>chihuahua</td>\n",
       "      <td>...</td>\n",
       "      <td>True</td>\n",
       "      <td>pekinese</td>\n",
       "      <td>0.090647</td>\n",
       "      <td>True</td>\n",
       "      <td>papillon</td>\n",
       "      <td>0.068957</td>\n",
       "      <td>True</td>\n",
       "      <td>5364</td>\n",
       "      <td>29720</td>\n",
       "      <td>NaN</td>\n",
       "    </tr>\n",
       "    <tr>\n",
       "      <th>2</th>\n",
       "      <td>891815181378084864</td>\n",
       "      <td>2017-07-31 00:18:03+00:00</td>\n",
       "      <td>&lt;a href=\"http://twitter.com/download/iphone\" r...</td>\n",
       "      <td>This is Archie. He is a rare Norwegian Pouncin...</td>\n",
       "      <td>https://twitter.com/dog_rates/status/891815181...</td>\n",
       "      <td>12</td>\n",
       "      <td>Archie</td>\n",
       "      <td>https://pbs.twimg.com/media/DGBdLU1WsAANxJ9.jpg</td>\n",
       "      <td>1</td>\n",
       "      <td>chihuahua</td>\n",
       "      <td>...</td>\n",
       "      <td>True</td>\n",
       "      <td>malamute</td>\n",
       "      <td>0.078253</td>\n",
       "      <td>True</td>\n",
       "      <td>kelpie</td>\n",
       "      <td>0.031379</td>\n",
       "      <td>True</td>\n",
       "      <td>3530</td>\n",
       "      <td>22369</td>\n",
       "      <td>NaN</td>\n",
       "    </tr>\n",
       "    <tr>\n",
       "      <th>3</th>\n",
       "      <td>891689557279858688</td>\n",
       "      <td>2017-07-30 15:58:51+00:00</td>\n",
       "      <td>&lt;a href=\"http://twitter.com/download/iphone\" r...</td>\n",
       "      <td>This is Darla. She commenced a snooze mid meal...</td>\n",
       "      <td>https://twitter.com/dog_rates/status/891689557...</td>\n",
       "      <td>13</td>\n",
       "      <td>Darla</td>\n",
       "      <td>https://pbs.twimg.com/media/DF_q7IAWsAEuuN8.jpg</td>\n",
       "      <td>1</td>\n",
       "      <td>paper_towel</td>\n",
       "      <td>...</td>\n",
       "      <td>False</td>\n",
       "      <td>labrador_retriever</td>\n",
       "      <td>0.168086</td>\n",
       "      <td>True</td>\n",
       "      <td>spatula</td>\n",
       "      <td>0.040836</td>\n",
       "      <td>False</td>\n",
       "      <td>7316</td>\n",
       "      <td>37440</td>\n",
       "      <td>NaN</td>\n",
       "    </tr>\n",
       "    <tr>\n",
       "      <th>4</th>\n",
       "      <td>891327558926688256</td>\n",
       "      <td>2017-07-29 16:00:24+00:00</td>\n",
       "      <td>&lt;a href=\"http://twitter.com/download/iphone\" r...</td>\n",
       "      <td>This is Franklin. He would like you to stop ca...</td>\n",
       "      <td>https://twitter.com/dog_rates/status/891327558...</td>\n",
       "      <td>12</td>\n",
       "      <td>Franklin</td>\n",
       "      <td>https://pbs.twimg.com/media/DF6hr6BUMAAzZgT.jpg</td>\n",
       "      <td>2</td>\n",
       "      <td>basset</td>\n",
       "      <td>...</td>\n",
       "      <td>True</td>\n",
       "      <td>english_springer</td>\n",
       "      <td>0.225770</td>\n",
       "      <td>True</td>\n",
       "      <td>german_short-haired_pointer</td>\n",
       "      <td>0.175219</td>\n",
       "      <td>True</td>\n",
       "      <td>7870</td>\n",
       "      <td>35765</td>\n",
       "      <td>NaN</td>\n",
       "    </tr>\n",
       "  </tbody>\n",
       "</table>\n",
       "<p>5 rows × 21 columns</p>\n",
       "</div>"
      ],
      "text/plain": [
       "             tweet_id                  timestamp  \\\n",
       "0  892420643555336193  2017-08-01 16:23:56+00:00   \n",
       "1  892177421306343426  2017-08-01 00:17:27+00:00   \n",
       "2  891815181378084864  2017-07-31 00:18:03+00:00   \n",
       "3  891689557279858688  2017-07-30 15:58:51+00:00   \n",
       "4  891327558926688256  2017-07-29 16:00:24+00:00   \n",
       "\n",
       "                                              source  \\\n",
       "0  <a href=\"http://twitter.com/download/iphone\" r...   \n",
       "1  <a href=\"http://twitter.com/download/iphone\" r...   \n",
       "2  <a href=\"http://twitter.com/download/iphone\" r...   \n",
       "3  <a href=\"http://twitter.com/download/iphone\" r...   \n",
       "4  <a href=\"http://twitter.com/download/iphone\" r...   \n",
       "\n",
       "                                                text  \\\n",
       "0  This is Phineas. He's a mystical boy. Only eve...   \n",
       "1  This is Tilly. She's just checking pup on you....   \n",
       "2  This is Archie. He is a rare Norwegian Pouncin...   \n",
       "3  This is Darla. She commenced a snooze mid meal...   \n",
       "4  This is Franklin. He would like you to stop ca...   \n",
       "\n",
       "                                       expanded_urls  rating_out_of_10  \\\n",
       "0  https://twitter.com/dog_rates/status/892420643...                13   \n",
       "1  https://twitter.com/dog_rates/status/892177421...                13   \n",
       "2  https://twitter.com/dog_rates/status/891815181...                12   \n",
       "3  https://twitter.com/dog_rates/status/891689557...                13   \n",
       "4  https://twitter.com/dog_rates/status/891327558...                12   \n",
       "\n",
       "       name                                          jpg_url  num_images  \\\n",
       "0   Phineas  https://pbs.twimg.com/media/DGKD1-bXoAAIAUK.jpg           1   \n",
       "1     Tilly  https://pbs.twimg.com/media/DGGmoV4XsAAUL6n.jpg           1   \n",
       "2    Archie  https://pbs.twimg.com/media/DGBdLU1WsAANxJ9.jpg           1   \n",
       "3     Darla  https://pbs.twimg.com/media/DF_q7IAWsAEuuN8.jpg           1   \n",
       "4  Franklin  https://pbs.twimg.com/media/DF6hr6BUMAAzZgT.jpg           2   \n",
       "\n",
       "   first_guess  ...  first_img_isdog        second_guess  \\\n",
       "0       orange  ...            False               bagel   \n",
       "1    chihuahua  ...             True            pekinese   \n",
       "2    chihuahua  ...             True            malamute   \n",
       "3  paper_towel  ...            False  labrador_retriever   \n",
       "4       basset  ...             True    english_springer   \n",
       "\n",
       "  second_guess_confidence  second_img_isdog                  third_guess  \\\n",
       "0                0.085851             False                       banana   \n",
       "1                0.090647              True                     papillon   \n",
       "2                0.078253              True                       kelpie   \n",
       "3                0.168086              True                      spatula   \n",
       "4                0.225770              True  german_short-haired_pointer   \n",
       "\n",
       "  third_guess_confidence  third_img_isdog  retweet_count  favorite_count  type  \n",
       "0               0.076110            False           7121           34282   NaN  \n",
       "1               0.068957             True           5364           29720   NaN  \n",
       "2               0.031379             True           3530           22369   NaN  \n",
       "3               0.040836            False           7316           37440   NaN  \n",
       "4               0.175219             True           7870           35765   NaN  \n",
       "\n",
       "[5 rows x 21 columns]"
      ]
     },
     "execution_count": 2,
     "metadata": {},
     "output_type": "execute_result"
    }
   ],
   "source": [
    "df_master = pd.read_csv('twitter_archive_master.csv')\n",
    "df_master.head()"
   ]
  },
  {
   "cell_type": "code",
   "execution_count": 3,
   "metadata": {},
   "outputs": [
    {
     "data": {
      "text/plain": [
       "(1886, 21)"
      ]
     },
     "execution_count": 3,
     "metadata": {},
     "output_type": "execute_result"
    }
   ],
   "source": [
    "df_master.shape"
   ]
  },
  {
   "cell_type": "markdown",
   "metadata": {},
   "source": [
    "### Structure\n",
    "\n",
    "This dataset contains 18 columns describing 1977 tweets. Many of the columns are self explanatory but there is section with columns like `first_guess` et cetera. These relate to a larger project that <a href=\"http://localhost:8888/lab/tree/Downloads/Data%20Wrangling%20Udacity/wrangle_act.html\" onclick=\"return false;\"> DogeAI</a> and I will be working on in the coming weeks. Hit that subscribe button if you would like to see more! <!-- this is a fake link that in a real setting would link do wrangle.act ––>"
   ]
  },
  {
   "cell_type": "markdown",
   "metadata": {},
   "source": [
    "### Finding Charlie\n",
    "\n",
    "The next few lines of code are going to get us information about the mean numerator for dogs named Charlie. I'll compare them to the whole dataset and a few other dogs with similar numbers in the population. As stated earlier, the most common 'name' for dogs is none and this blog will likely be featured in a future update with deeper analysis."
   ]
  },
  {
   "cell_type": "code",
   "execution_count": 4,
   "metadata": {},
   "outputs": [
    {
     "data": {
      "text/plain": [
       "10.869565217391305"
      ]
     },
     "execution_count": 4,
     "metadata": {},
     "output_type": "execute_result"
    }
   ],
   "source": [
    "#Find the mean rating of the dataset\n",
    "\n",
    "doggo_mean = df_master['rating_out_of_10'].mean()\n",
    "doggo_mean"
   ]
  },
  {
   "cell_type": "code",
   "execution_count": 5,
   "metadata": {},
   "outputs": [
    {
     "data": {
      "text/plain": [
       "11.6"
      ]
     },
     "execution_count": 5,
     "metadata": {},
     "output_type": "execute_result"
    }
   ],
   "source": [
    "#Dogs are averaging a ~10.6 in the rating system, because they are good dogs Brent.\n",
    "#How does Charlie hold up?\n",
    "\n",
    "charlie = df_master['rating_out_of_10'][df_master['name'] == 'Charlie'].mean()\n",
    "charlie"
   ]
  },
  {
   "cell_type": "code",
   "execution_count": 6,
   "metadata": {},
   "outputs": [
    {
     "data": {
      "text/plain": [
       "Oliver     10\n",
       "Cooper     10\n",
       "Charlie    10\n",
       "Lucy        9\n",
       "Tucker      9\n",
       "Penny       9\n",
       "Sadie       8\n",
       "Winston     8\n",
       "Daisy       7\n",
       "Lola        7\n",
       "Toby        7\n",
       "Bo          6\n",
       "Stanley     6\n",
       "Jax         6\n",
       "Koda        6\n",
       "Name: name, dtype: int64"
      ]
     },
     "execution_count": 6,
     "metadata": {},
     "output_type": "execute_result"
    }
   ],
   "source": [
    "#Charlie is doing a heckin good boy and beating the average by a whole point!\n",
    "#how do other dogs compare? Let's look for similar sized dog groups\n",
    "\n",
    "\n",
    "#note that None will be the largest value by far\n",
    "df_master['name'].value_counts(sort=True).nlargest(15)"
   ]
  },
  {
   "cell_type": "code",
   "execution_count": 7,
   "metadata": {},
   "outputs": [
    {
     "data": {
      "text/plain": [
       "11.3"
      ]
     },
     "execution_count": 7,
     "metadata": {},
     "output_type": "execute_result"
    }
   ],
   "source": [
    "#let's compare to Oliver, Penny and Sadie\n",
    "oliver = df_master['rating_out_of_10'][df_master['name'] == 'Cooper'].mean()\n",
    "oliver"
   ]
  },
  {
   "cell_type": "code",
   "execution_count": 8,
   "metadata": {},
   "outputs": [
    {
     "data": {
      "text/plain": [
       "10.666666666666666"
      ]
     },
     "execution_count": 8,
     "metadata": {},
     "output_type": "execute_result"
    }
   ],
   "source": [
    "penny = df_master['rating_out_of_10'][df_master['name'] == 'Penny'].mean()\n",
    "penny"
   ]
  },
  {
   "cell_type": "code",
   "execution_count": 9,
   "metadata": {},
   "outputs": [
    {
     "data": {
      "text/plain": [
       "10.25"
      ]
     },
     "execution_count": 9,
     "metadata": {},
     "output_type": "execute_result"
    }
   ],
   "source": [
    "sadie = df_master['rating_out_of_10'][df_master['name'] == 'Sadie'].mean()\n",
    "sadie"
   ]
  },
  {
   "cell_type": "markdown",
   "metadata": {},
   "source": [
    "Charlie scores higher than the 3 other groups! Let's visualize this using matplotlib and a histogram with all the values."
   ]
  },
  {
   "cell_type": "code",
   "execution_count": 10,
   "metadata": {},
   "outputs": [
    {
     "data": {
      "image/png": "[encoded data removed]",
      "text/plain": [
       "<Figure size 432x288 with 1 Axes>"
      ]
     },
     "metadata": {
      "needs_background": "light"
     },
     "output_type": "display_data"
    }
   ],
   "source": [
    "import matplotlib.pyplot as plt\n",
    "%matplotlib inline\n",
    "\n",
    "plt.hist(x=df_master['rating_out_of_10'], label='Histogram of Rating Values', range=[8,15], align='mid', histtype='stepfilled')\n",
    "plt.axvline(x=doggo_mean, color='black')\n",
    "plt.axvline(x=charlie, color='r')\n",
    "plt.axvline(x=sadie, color='brown')\n",
    "plt.axvline(x=penny, color='gold')\n",
    "plt.axvline(x=oliver, color='olive')\n",
    "plt.xlabel(\"Rating\")\n",
    "\n",
    "plt.ylabel(\"Number of ratings\");\n",
    "\n"
   ]
  },
  {
   "cell_type": "markdown",
   "metadata": {},
   "source": [
    "This seems to state that if you want a good rating from our friends at WRD, sending them Charlie is a good idea!\n",
    "\n",
    "\n",
    "# Bonus Round: Getting Ratioed\n",
    "\n",
    "On the social media platform Twitter, a ratio, or getting ratioed, is when replies to a tweet vastly outnumber likes or retweets. This means people are objecting to the tweet and considering its content bad. Do you think an account like WeRateDogs is likely to get ratioed if people do not like it's rating system, like <b>Brent</b>?\n",
    "\n",
    "Let's check it out with a simple linear regression"
   ]
  },
  {
   "cell_type": "code",
   "execution_count": 11,
   "metadata": {},
   "outputs": [
    {
     "data": {
      "text/html": [
       "<table class=\"simpletable\">\n",
       "<caption>OLS Regression Results</caption>\n",
       "<tr>\n",
       "  <th>Dep. Variable:</th>     <td>favorite_count</td>  <th>  R-squared (uncentered):</th>      <td>   0.892</td> \n",
       "</tr>\n",
       "<tr>\n",
       "  <th>Model:</th>                   <td>OLS</td>       <th>  Adj. R-squared (uncentered):</th> <td>   0.892</td> \n",
       "</tr>\n",
       "<tr>\n",
       "  <th>Method:</th>             <td>Least Squares</td>  <th>  F-statistic:       </th>          <td>1.559e+04</td>\n",
       "</tr>\n",
       "<tr>\n",
       "  <th>Date:</th>             <td>Fri, 31 Dec 2021</td> <th>  Prob (F-statistic):</th>           <td>  0.00</td>  \n",
       "</tr>\n",
       "<tr>\n",
       "  <th>Time:</th>                 <td>15:59:13</td>     <th>  Log-Likelihood:    </th>          <td> -18611.</td> \n",
       "</tr>\n",
       "<tr>\n",
       "  <th>No. Observations:</th>      <td>  1886</td>      <th>  AIC:               </th>          <td>3.722e+04</td>\n",
       "</tr>\n",
       "<tr>\n",
       "  <th>Df Residuals:</th>          <td>  1885</td>      <th>  BIC:               </th>          <td>3.723e+04</td>\n",
       "</tr>\n",
       "<tr>\n",
       "  <th>Df Model:</th>              <td>     1</td>      <th>                     </th>              <td> </td>    \n",
       "</tr>\n",
       "<tr>\n",
       "  <th>Covariance Type:</th>      <td>nonrobust</td>    <th>                     </th>              <td> </td>    \n",
       "</tr>\n",
       "</table>\n",
       "<table class=\"simpletable\">\n",
       "<tr>\n",
       "        <td></td>           <th>coef</th>     <th>std err</th>      <th>t</th>      <th>P>|t|</th>  <th>[0.025</th>    <th>0.975]</th>  \n",
       "</tr>\n",
       "<tr>\n",
       "  <th>retweet_count</th> <td>    2.8097</td> <td>    0.023</td> <td>  124.867</td> <td> 0.000</td> <td>    2.766</td> <td>    2.854</td>\n",
       "</tr>\n",
       "</table>\n",
       "<table class=\"simpletable\">\n",
       "<tr>\n",
       "  <th>Omnibus:</th>       <td>865.610</td> <th>  Durbin-Watson:     </th> <td>   0.889</td> \n",
       "</tr>\n",
       "<tr>\n",
       "  <th>Prob(Omnibus):</th> <td> 0.000</td>  <th>  Jarque-Bera (JB):  </th> <td>57826.435</td>\n",
       "</tr>\n",
       "<tr>\n",
       "  <th>Skew:</th>          <td>-1.309</td>  <th>  Prob(JB):          </th> <td>    0.00</td> \n",
       "</tr>\n",
       "<tr>\n",
       "  <th>Kurtosis:</th>      <td>30.000</td>  <th>  Cond. No.          </th> <td>    1.00</td> \n",
       "</tr>\n",
       "</table><br/><br/>Notes:<br/>[1] R² is computed without centering (uncentered) since the model does not contain a constant.<br/>[2] Standard Errors assume that the covariance matrix of the errors is correctly specified."
      ],
      "text/plain": [
       "<class 'statsmodels.iolib.summary.Summary'>\n",
       "\"\"\"\n",
       "                                 OLS Regression Results                                \n",
       "=======================================================================================\n",
       "Dep. Variable:         favorite_count   R-squared (uncentered):                   0.892\n",
       "Model:                            OLS   Adj. R-squared (uncentered):              0.892\n",
       "Method:                 Least Squares   F-statistic:                          1.559e+04\n",
       "Date:                Fri, 31 Dec 2021   Prob (F-statistic):                        0.00\n",
       "Time:                        15:59:13   Log-Likelihood:                         -18611.\n",
       "No. Observations:                1886   AIC:                                  3.722e+04\n",
       "Df Residuals:                    1885   BIC:                                  3.723e+04\n",
       "Df Model:                           1                                                  \n",
       "Covariance Type:            nonrobust                                                  \n",
       "=================================================================================\n",
       "                    coef    std err          t      P>|t|      [0.025      0.975]\n",
       "---------------------------------------------------------------------------------\n",
       "retweet_count     2.8097      0.023    124.867      0.000       2.766       2.854\n",
       "==============================================================================\n",
       "Omnibus:                      865.610   Durbin-Watson:                   0.889\n",
       "Prob(Omnibus):                  0.000   Jarque-Bera (JB):            57826.435\n",
       "Skew:                          -1.309   Prob(JB):                         0.00\n",
       "Kurtosis:                      30.000   Cond. No.                         1.00\n",
       "==============================================================================\n",
       "\n",
       "Notes:\n",
       "[1] R² is computed without centering (uncentered) since the model does not contain a constant.\n",
       "[2] Standard Errors assume that the covariance matrix of the errors is correctly specified.\n",
       "\"\"\""
      ]
     },
     "execution_count": 11,
     "metadata": {},
     "output_type": "execute_result"
    }
   ],
   "source": [
    "import statsmodels.api as sm\n",
    "\n",
    "X = df_master['favorite_count']\n",
    "Y = df_master['retweet_count']\n",
    "\n",
    "mod = sm.OLS(X, Y)\n",
    "\n",
    "res = mod.fit()\n",
    "\n",
    "res.summary()"
   ]
  },
  {
   "cell_type": "markdown",
   "metadata": {},
   "source": [
    "What is most important in the above model is the `R-squared (uncentered)` which is 0.892. Having a value this high means that WeRateDogs is making content that is NOT ratioed"
   ]
  },
  {
   "cell_type": "code",
   "execution_count": 12,
   "metadata": {},
   "outputs": [
    {
     "data": {
      "image/png": "[encoded data removed]",
      "text/plain": [
       "<Figure size 432x288 with 1 Axes>"
      ]
     },
     "metadata": {
      "needs_background": "light"
     },
     "output_type": "display_data"
    }
   ],
   "source": [
    "# The below chart is the visual display of the retweet/favorite count linear regression\n",
    "import numpy as np\n",
    "\n",
    "plt.scatter(df_master['favorite_count'], df_master['retweet_count'])\n",
    "plt.xlabel('Favorites')\n",
    "plt.ylabel('Retweets')\n",
    "plt.title('Retweets and favorites Scatter plot')\n",
    "\n",
    "x = np.array(df_master['favorite_count'])\n",
    "y = np.array(df_master['retweet_count'])\n",
    "\n",
    "plt.plot(x, y, 'o', label=\"Regression Line\")\n",
    "\n",
    "m, b = np.polyfit(x, y, 1)\n",
    "\n",
    "\n",
    "\n",
    "plt.plot(x, m*x + b);"
   ]
  },
  {
   "cell_type": "markdown",
   "metadata": {},
   "source": [
    "Thank you! Make sure to clap, comment and hit that subscribe and we will see you next with with more info!"
   ]
  },
  {
   "cell_type": "code",
   "execution_count": 13,
   "metadata": {},
   "outputs": [
    {
     "name": "stderr",
     "output_type": "stream",
     "text": [
      "[NbConvertApp] Converting notebook act_report.ipynb to html\n",
      "[NbConvertApp] Writing 616882 bytes to act_report.html\n"
     ]
    },
    {
     "data": {
      "text/plain": [
       "0"
      ]
     },
     "execution_count": 13,
     "metadata": {},
     "output_type": "execute_result"
    }
   ],
   "source": [
    "import os\n",
    "\n",
    "os.system('jupyter nbconvert --to html act_report.ipynb')"
   ]
  },
  {
   "cell_type": "code",
   "execution_count": null,
   "metadata": {},
   "outputs": [],
   "source": []
  }
 ],
 "metadata": {
  "kernelspec": {
   "display_name": "Python 3 (ipykernel)",
   "language": "python",
   "name": "python3"
  },
  "language_info": {
   "codemirror_mode": {
    "name": "ipython",
    "version": 3
   },
   "file_extension": ".py",
   "mimetype": "text/x-python",
   "name": "python",
   "nbconvert_exporter": "python",
   "pygments_lexer": "ipython3",
   "version": "3.8.12"
  }
 },
 "nbformat": 4,
 "nbformat_minor": 4
}
